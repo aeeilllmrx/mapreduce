{
 "cells": [
  {
   "cell_type": "markdown",
   "metadata": {},
   "source": [
    "## mrjob"
   ]
  },
  {
   "cell_type": "markdown",
   "metadata": {},
   "source": [
    "Here's a simple demonstration of mrjob. We will take user data from the Yelp Challenge Dataset, get the social network data, and write a mapreduce to find which friends each pair of users has in common."
   ]
  },
  {
   "cell_type": "code",
   "execution_count": 1,
   "metadata": {
    "collapsed": true
   },
   "outputs": [],
   "source": [
    "%matplotlib inline\n",
    "import matplotlib.pyplot as plt\n",
    "import pandas as pd\n",
    "import ast\n",
    "import numpy as np"
   ]
  },
  {
   "cell_type": "code",
   "execution_count": 2,
   "metadata": {
    "collapsed": false
   },
   "outputs": [],
   "source": [
    "df = pd.read_csv(\"../../yelp_challenge/yelp_academic_dataset_user.csv\")"
   ]
  },
  {
   "cell_type": "code",
   "execution_count": 3,
   "metadata": {
    "collapsed": false
   },
   "outputs": [
    {
     "data": {
      "text/html": [
       "<div>\n",
       "<table border=\"1\" class=\"dataframe\">\n",
       "  <thead>\n",
       "    <tr style=\"text-align: right;\">\n",
       "      <th></th>\n",
       "      <th>yelping_since</th>\n",
       "      <th>compliments.plain</th>\n",
       "      <th>review_count</th>\n",
       "      <th>friends</th>\n",
       "      <th>compliments.cute</th>\n",
       "      <th>compliments.writer</th>\n",
       "      <th>fans</th>\n",
       "      <th>compliments.note</th>\n",
       "      <th>type</th>\n",
       "      <th>compliments.hot</th>\n",
       "      <th>...</th>\n",
       "      <th>compliments.more</th>\n",
       "      <th>elite</th>\n",
       "      <th>name</th>\n",
       "      <th>user_id</th>\n",
       "      <th>votes.cool</th>\n",
       "      <th>compliments.list</th>\n",
       "      <th>votes.funny</th>\n",
       "      <th>compliments.photos</th>\n",
       "      <th>compliments.funny</th>\n",
       "      <th>votes.useful</th>\n",
       "    </tr>\n",
       "  </thead>\n",
       "  <tbody>\n",
       "    <tr>\n",
       "      <th>0</th>\n",
       "      <td>2004-10</td>\n",
       "      <td>25</td>\n",
       "      <td>108</td>\n",
       "      <td>['rpOyqD_893cqmDAtJLbdog', '4U9kSBLuBDU391x6bx...</td>\n",
       "      <td>15</td>\n",
       "      <td>9</td>\n",
       "      <td>69</td>\n",
       "      <td>20</td>\n",
       "      <td>user</td>\n",
       "      <td>48</td>\n",
       "      <td>...</td>\n",
       "      <td>3</td>\n",
       "      <td>[2005, 2006]</td>\n",
       "      <td>Russel</td>\n",
       "      <td>18kPq7GPye-YQ3LyKyAZPw</td>\n",
       "      <td>245</td>\n",
       "      <td>NaN</td>\n",
       "      <td>166</td>\n",
       "      <td>15</td>\n",
       "      <td>11</td>\n",
       "      <td>278</td>\n",
       "    </tr>\n",
       "  </tbody>\n",
       "</table>\n",
       "<p>1 rows × 23 columns</p>\n",
       "</div>"
      ],
      "text/plain": [
       "  yelping_since  compliments.plain  review_count  \\\n",
       "0       2004-10                 25           108   \n",
       "\n",
       "                                             friends  compliments.cute  \\\n",
       "0  ['rpOyqD_893cqmDAtJLbdog', '4U9kSBLuBDU391x6bx...                15   \n",
       "\n",
       "   compliments.writer  fans  compliments.note  type  compliments.hot  \\\n",
       "0                   9    69                20  user               48   \n",
       "\n",
       "       ...       compliments.more         elite    name  \\\n",
       "0      ...                      3  [2005, 2006]  Russel   \n",
       "\n",
       "                  user_id votes.cool compliments.list votes.funny  \\\n",
       "0  18kPq7GPye-YQ3LyKyAZPw        245              NaN         166   \n",
       "\n",
       "   compliments.photos  compliments.funny  votes.useful  \n",
       "0                  15                 11           278  \n",
       "\n",
       "[1 rows x 23 columns]"
      ]
     },
     "execution_count": 3,
     "metadata": {},
     "output_type": "execute_result"
    }
   ],
   "source": [
    "df.head(1)"
   ]
  },
  {
   "cell_type": "markdown",
   "metadata": {},
   "source": [
    "For our purposes we only need \"user_id\" and \"friends\", so let's remove everything else. It's nice to know the distribution of number of friends as well."
   ]
  },
  {
   "cell_type": "code",
   "execution_count": null,
   "metadata": {
    "collapsed": true
   },
   "outputs": [],
   "source": [
    "cdf = df[[\"user_id\",\"friends\"]]\n",
    "cdf[\"num_friends\"] = cdf.friends.apply(lambda x: len(x.split()))\n",
    "d = dict(zip(cdf.user_id, range(len(cdf))))\n",
    "cdf.user_id = cdf.user_id.apply(lambda x: d[x])\n",
    "cdf.friends = cdf.friends.apply(lambda x: [d[i] for i in ast.literal_eval(x)])"
   ]
  },
  {
   "cell_type": "code",
   "execution_count": 5,
   "metadata": {
    "collapsed": false
   },
   "outputs": [
    {
     "data": {
      "text/html": [
       "<div>\n",
       "<table border=\"1\" class=\"dataframe\">\n",
       "  <thead>\n",
       "    <tr style=\"text-align: right;\">\n",
       "      <th></th>\n",
       "      <th>user_id</th>\n",
       "      <th>friends</th>\n",
       "      <th>num_friends</th>\n",
       "    </tr>\n",
       "  </thead>\n",
       "  <tbody>\n",
       "    <tr>\n",
       "      <th>0</th>\n",
       "      <td>0</td>\n",
       "      <td>[1, 2, 3, 5, 6, 12, 93, 454, 1083, 1348, 1434,...</td>\n",
       "      <td>206</td>\n",
       "    </tr>\n",
       "    <tr>\n",
       "      <th>1</th>\n",
       "      <td>1</td>\n",
       "      <td>[0, 2, 3, 4, 5, 7, 9, 729, 12, 90, 91, 93, 178...</td>\n",
       "      <td>1904</td>\n",
       "    </tr>\n",
       "    <tr>\n",
       "      <th>2</th>\n",
       "      <td>2</td>\n",
       "      <td>[0, 1, 7, 9, 10, 93, 178, 455, 545, 546, 1083,...</td>\n",
       "      <td>354</td>\n",
       "    </tr>\n",
       "    <tr>\n",
       "      <th>3</th>\n",
       "      <td>3</td>\n",
       "      <td>[0, 1, 1083, 53097]</td>\n",
       "      <td>4</td>\n",
       "    </tr>\n",
       "    <tr>\n",
       "      <th>4</th>\n",
       "      <td>4</td>\n",
       "      <td>[1, 12, 16522, 13118]</td>\n",
       "      <td>4</td>\n",
       "    </tr>\n",
       "  </tbody>\n",
       "</table>\n",
       "</div>"
      ],
      "text/plain": [
       "   user_id                                            friends  num_friends\n",
       "0        0  [1, 2, 3, 5, 6, 12, 93, 454, 1083, 1348, 1434,...          206\n",
       "1        1  [0, 2, 3, 4, 5, 7, 9, 729, 12, 90, 91, 93, 178...         1904\n",
       "2        2  [0, 1, 7, 9, 10, 93, 178, 455, 545, 546, 1083,...          354\n",
       "3        3                                [0, 1, 1083, 53097]            4\n",
       "4        4                              [1, 12, 16522, 13118]            4"
      ]
     },
     "execution_count": 5,
     "metadata": {},
     "output_type": "execute_result"
    }
   ],
   "source": [
    "cdf.head()"
   ]
  },
  {
   "cell_type": "code",
   "execution_count": 6,
   "metadata": {
    "collapsed": false
   },
   "outputs": [
    {
     "data": {
      "image/png": "[encoded data removed]",
      "text/plain": [
       "<matplotlib.figure.Figure at 0x10eaab950>"
      ]
     },
     "metadata": {},
     "output_type": "display_data"
    }
   ],
   "source": [
    "p = plt.hist(cdf.num_friends, range=(1, 10))"
   ]
  },
  {
   "cell_type": "code",
   "execution_count": 7,
   "metadata": {
    "collapsed": false
   },
   "outputs": [
    {
     "data": {
      "text/plain": [
       "7.5502774634252754"
      ]
     },
     "execution_count": 7,
     "metadata": {},
     "output_type": "execute_result"
    }
   ],
   "source": [
    "np.mean(cdf.num_friends)"
   ]
  },
  {
   "cell_type": "markdown",
   "metadata": {},
   "source": [
    "As we might expect, most people have very few friends, but there are a few people who spread the curve right. To make things a little more social, let's just take the users on Yelp with at least 5 friends."
   ]
  },
  {
   "cell_type": "code",
   "execution_count": 8,
   "metadata": {
    "collapsed": false
   },
   "outputs": [],
   "source": [
    "social = cdf[cdf.num_friends >= 5]\n",
    "social = social[[\"user_id\", \"friends\"]]"
   ]
  },
  {
   "cell_type": "markdown",
   "metadata": {},
   "source": [
    "Finally, we set up our mapreduce routine with mrjob.\n",
    "\n",
    "The key here is the following: suppose we have two people A and B, and their friends are as follows:\n",
    "\n",
    "* A --> [B, C, D, G]\n",
    "* B --> [A, D, E, F]\n",
    "\n",
    "Then the mutual friends are just the people who are in both groups (D)."
   ]
  },
  {
   "cell_type": "code",
   "execution_count": 10,
   "metadata": {
    "collapsed": false
   },
   "outputs": [],
   "source": [
    "from mrjob.job import MRJob\n",
    "import mrjob\n",
    "from mrjob.step import MRStep\n",
    "import ast\n",
    "from collections import defaultdict\n",
    "\n",
    "class MR_mutual_friends(MRJob):\n",
    "\n",
    "    INTERNAL_PROTOCOL = mrjob.protocol.PickleProtocol\n",
    "    pairs = defaultdict(set)\n",
    "\n",
    "    def mapper(self, _, friends):\n",
    "        # for each user, make pairs with each friend\n",
    "        # and use as a value the user's whole friend list\n",
    "        # the semicolons are a result of csv formatting\n",
    "        u = ast.literal_eval(friends.split(\";\")[0])\n",
    "        fr = ast.literal_eval(friends.split(\";\")[1])\n",
    "        for f in fr:\n",
    "            yield (u, f), fr\n",
    "\n",
    "    def combiner(self, pair, friends):\n",
    "        # keep a set for each pair, and every time a new friend appears, \n",
    "        # add that friend to the set\n",
    "        # otherwise if the friend already exists, we know it is mutual\n",
    "        p = tuple(sorted(pair))\n",
    "        if p not in self.pairs:\n",
    "            self.pairs[p] = set()\n",
    "        for f in list(friends)[0]:\n",
    "            if f not in self.pairs[p]:\n",
    "                self.pairs[p].add(f)\n",
    "            else:\n",
    "                yield p, f\n",
    "\n",
    "    def reducer(self, pair, friends):\n",
    "        # finally, just return the list of mutual friends\n",
    "        # or use len(list(friends)) to return the number\n",
    "        yield pair, friends\n",
    "\n",
    "#if __name__ == '__main__':\n",
    "#    MR_mutual_friends.run()\n"
   ]
  },
  {
   "cell_type": "markdown",
   "metadata": {},
   "source": [
    "And that's it! This can't really be run from an IPython Notebook, but on the command line it's as simple as:\n",
    "* python MR_mutual_friends.py yelp_data.csv > mutualfriends.txt"
   ]
  },
  {
   "cell_type": "code",
   "execution_count": null,
   "metadata": {
    "collapsed": true
   },
   "outputs": [],
   "source": []
  }
 ],
 "metadata": {
  "kernelspec": {
   "display_name": "Python 2",
   "language": "python",
   "name": "python2"
  },
  "language_info": {
   "codemirror_mode": {
    "name": "ipython",
    "version": 2
   },
   "file_extension": ".py",
   "mimetype": "text/x-python",
   "name": "python",
   "nbconvert_exporter": "python",
   "pygments_lexer": "ipython2",
   "version": "2.7.10"
  }
 },
 "nbformat": 4,
 "nbformat_minor": 0
}
